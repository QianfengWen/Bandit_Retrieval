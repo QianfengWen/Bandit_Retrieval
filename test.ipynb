{
 "cells": [
  {
   "cell_type": "code",
   "execution_count": null,
   "metadata": {},
   "outputs": [],
   "source": [
    "# coding: utf-8\n",
    "from mpl_toolkits.mplot3d import Axes3D\n",
    "from matplotlib import pylab as plt\n",
    "import numpy as np\n",
    "from sklearn.gaussian_process import GaussianProcessRegressor\n",
    "\n",
    "\n",
    "class GPUCB(object):\n",
    "\n",
    "  def __init__(self, querypassage_embeddings, relevance_map, beta=100., is_llm=False):\n",
    "    '''\n",
    "    meshgrid: Output from np.methgrid.\n",
    "    e.g. np.meshgrid(np.arange(-1, 1, 0.1), np.arange(-1, 1, 0.1)) for 2D space\n",
    "    with |x_i| < 1 constraint.\n",
    "    environment: Environment class which is equipped with sample() method to\n",
    "    return observed value.\n",
    "    beta (optional): Hyper-parameter to tune the exploration-exploitation\n",
    "    balance. If beta is large, it emphasizes the variance of the unexplored\n",
    "    solution solution (i.e. larger curiosity)\n",
    "    '''\n",
    "    self.beta = beta\n",
    "    self.is_llm = is_llm\n",
    "    self.X_grid = self.meshgrid.reshape(self.meshgrid.shape[0], -1).T\n",
    "    self.mu = np.array([0. for _ in range(self.X_grid.shape[0])])\n",
    "    self.sigma = np.array([0.5 for _ in range(self.X_grid.shape[0])])\n",
    "    self.X = []\n",
    "    self.T = []\n",
    "\n",
    "  def argmax_ucb(self):\n",
    "    return np.argmax(self.mu + self.sigma * np.sqrt(self.beta))\n",
    "\n",
    "  def learn(self):\n",
    "    grid_idx = self.argmax_ucb()\n",
    "    self.sample(self.X_grid[grid_idx])\n",
    "    gp = GaussianProcessRegressor()\n",
    "    gp.fit(self.X, self.T)\n",
    "    self.mu, self.sigma = gp.predict(self.X_grid, return_std=True)\n",
    "\n",
    "  def get_reward(self, x):\n",
    "    # Get the relevance score of the query-passage pair\n",
    "    if self.is_llm:\n",
    "      # Use LLM to get the relevance score\n",
    "      pass\n",
    "    else:\n",
    "      # Use the relevance map to get the relevance score\n",
    "      pass\n",
    "    self.X.append(x)\n",
    "    self.T.append(t)"
   ]
  }
 ],
 "metadata": {
  "kernelspec": {
   "display_name": "base",
   "language": "python",
   "name": "python3"
  },
  "language_info": {
   "name": "python",
   "version": "3.12.3"
  }
 },
 "nbformat": 4,
 "nbformat_minor": 2
}
